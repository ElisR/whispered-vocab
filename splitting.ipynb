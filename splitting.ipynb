{
 "cells": [
  {
   "cell_type": "markdown",
   "metadata": {},
   "source": [
    "# Splitting Audio Files"
   ]
  },
  {
   "cell_type": "code",
   "execution_count": 1,
   "metadata": {},
   "outputs": [],
   "source": [
    "# Finding audio files\n",
    "import glob\n",
    "\n",
    "# Manipulating audio\n",
    "from pydub import AudioSegment\n",
    "from pydub.silence import split_on_silence\n",
    "from pydub.utils import mediainfo\n",
    "\n",
    "from pydub.playback import play\n",
    "\n",
    "# Generating Anki deck\n",
    "import genanki\n",
    "import random\n",
    "\n",
    "# Modifying strings\n",
    "import re\n",
    "\n",
    "# Machine Learning Model\n",
    "import torch\n",
    "import whisper\n",
    "\n",
    "# Saving output\n",
    "import pandas as pd\n",
    "import os.path\n",
    "\n",
    "# Checking confidence\n",
    "import numpy as np\n",
    "import matplotlib.pyplot as plt\n",
    "\n",
    "# Progress bar\n",
    "from tqdm.notebook import tqdm\n",
    "\n",
    "DEVICE = \"cuda\" if torch.cuda.is_available() else \"cpu\"\n",
    "#DEVICE = \"cpu\"\n",
    "\n",
    "# Has to be changed if on CPU vs GPU\n",
    "decode_options = {\"fp16\": True}"
   ]
  },
  {
   "cell_type": "code",
   "execution_count": 5,
   "metadata": {},
   "outputs": [],
   "source": [
    "# Be careful to only run this cell once because it eats up VRAM\n",
    "model = whisper.load_model(\"medium\", device=DEVICE)"
   ]
  },
  {
   "cell_type": "code",
   "execution_count": 103,
   "metadata": {},
   "outputs": [
    {
     "name": "stdout",
     "output_type": "stream",
     "text": [
      "[1, 1, 2, 2, 2, 2, 2, 2, 2, 3, 3, 3, 4, 4, 4, 4, 5, 5, 5, 5, 5, 6, 6, 6, 7, 7, 7, 7, 7, 7, 8, 8, 8, 9, 9, 9, 9, 10, 10, 10, 10, 11, 11, 11, 11, 12, 12, 12, 12, 12, 12, 12, 13, 13, 13, 14, 14, 14, 14, 14, 14, 14, 14, 15, 15, 15, 15, 15, 15, 15, 16, 16, 16, 16, 16, 16, 17, 17, 18, 18, 18, 18, 18, 18, 18, 18, 19, 19, 19, 19, 19, 19, 19, 20, 20, 21, 21, 21, 22, 22, 22, 22, 22, 22, 23, 23, 23, 23, 23, 23, 23, 23, 24, 24, 24, 24, 24, 24, 24, 24]\n"
     ]
    }
   ],
   "source": [
    "# Package Name\n",
    "pkg_name = \"Mastering French Vocabulary\"\n",
    "\n",
    "# Create chapter names if available\n",
    "#pkg_chapters = {}\n",
    "pkg_chapters = { 1 : \"Personal Information\", 2 : \"The Human Body\", 3 : \"Health and Medicine\", 4 : \"Psyche, Mind, Behaviour\",\n",
    "                5 : \"Food, Clothing, Shopping\", 6 : \"Living\", 7 : \"Private Life, Social Relationships\", 8 : \"Education and Training\",\n",
    "                9 : \"Professional and Work World\", 10 : \"Leisure Activities\", 11 : \"Travel and Tourism\", 12 : \"Art, Music, Literature\",\n",
    "                13 : \"History, Religion, Philosophy\", 14 : \"State, Law, Politics\", 15 : \"Economy and Business\", 16 : \"Communication and Mass Media\",\n",
    "                17 : \"Transportation, Vehicles\", 18 : \"Nature, Environment, Ecology\", 19 : \"Time and Space\", 20 : \"Colours and Shapes\",\n",
    "                21 : \"Quantities, Measurements, Numbers\", 22 : \"General Terms\", 23 : \"Verbal Communication\", 24 : \"Language Structures\" }\n",
    "\n",
    "# Find all mp3 files\n",
    "dir = \"french_audio/\"\n",
    "filename_dir_list = sorted(glob.glob(dir + \"*.mp3\"))\n",
    "filename_only_list = [ f_dir.split(\"/\")[-1] for f_dir in filename_dir_list ]\n",
    "chapter_list = [ int(filename.split(\".\", 1)[0]) for filename in filename_only_list]\n",
    "\n",
    "# Choose file\n",
    "file_number = 0\n",
    "filename = filename_only_list[file_number]\n",
    "chapter = pkg_chapters[chapter_list[file_number]]\n",
    "\n",
    "def split_filename(filename):\n",
    "    # TODO Fix to be more generic\n",
    "    prefix = filename[:4]\n",
    "    title = filename[5:-4]\n",
    "\n",
    "    return (prefix, title)\n",
    "\n",
    "filename_prefix, filename_title = split_filename(filename)\n",
    "\n",
    "track = AudioSegment.from_mp3(dir + filename)\n",
    "original_bitrate = mediainfo(dir + filename)[\"bit_rate\"]"
   ]
  },
  {
   "cell_type": "code",
   "execution_count": 85,
   "metadata": {},
   "outputs": [],
   "source": [
    "# Parameters empirically tuned\n",
    "# Discard first two chunks because they're English\n",
    "chunks = split_on_silence(track, min_silence_len=600, silence_thresh=-30, keep_silence=200)[2:]\n",
    "\n",
    "def chunk_filename(filename_prefix, i):\n",
    "    return filename_prefix + \"_\" + str(i) + \".mp3\"\n",
    "\n",
    "chunk_filename_list = [ chunk_filename(filename_prefix, i) for i in range(len(chunks)) ]\n",
    "\n",
    "# Save split up audio\n",
    "for i, (chunk, chunk_name) in enumerate(zip(chunks, chunk_filename_list)):\n",
    "    # Only write if filename doesn't exist\n",
    "    if not os.path.isfile(chunk_name):\n",
    "        chunk.export(chunk_name, format=\"mp3\")"
   ]
  },
  {
   "cell_type": "markdown",
   "metadata": {},
   "source": [
    "### Load Model and Apply to Chunks"
   ]
  },
  {
   "cell_type": "code",
   "execution_count": 87,
   "metadata": {},
   "outputs": [
    {
     "data": {
      "application/vnd.jupyter.widget-view+json": {
       "model_id": "97f19e89e88442099fa3cc8f9fa39b17",
       "version_major": 2,
       "version_minor": 0
      },
      "text/plain": [
       "  0%|          | 0/109 [00:00<?, ?it/s]"
      ]
     },
     "metadata": {},
     "output_type": "display_data"
    }
   ],
   "source": [
    "phrases_fr = []\n",
    "phrases_en = []\n",
    "\n",
    "num_chunks = len(chunks)\n",
    "for i in tqdm(range(num_chunks)):\n",
    "    # Ignoring the English title\n",
    "    result_fr = model.transcribe(chunk_filename(filename_prefix, i), language=\"fr\", task=\"transcribe\", **decode_options)\n",
    "    result_en = model.transcribe(chunk_filename(filename_prefix, i), language=\"fr\", task=\"translate\", **decode_options)\n",
    "\n",
    "    # Saving text\n",
    "    phrases_fr.append(result_fr[\"text\"])\n",
    "    phrases_en.append(result_en[\"text\"])"
   ]
  },
  {
   "cell_type": "code",
   "execution_count": 88,
   "metadata": {},
   "outputs": [
    {
     "name": "stdout",
     "output_type": "stream",
     "text": [
      "[('le nom', 'the name'), ('le nom de famille', 'family name'), ('le prénom', 'the first name'), (\"s'appeler\", 'to call'), (\"Comment t'appelles-tu?\", \"What's your name?\"), (\"Comment tu t'appelles?\", \"What's your name?\"), ('Monsieur', 'Sir'), ('Messieurs,', 'Gentlemen!'), ('Madame', 'Madam'), ('Mesdames', 'ladies and gentlemen'), ('madame Martin naît du pont', 'madame Martin, born in Dupont'), ('Mademoiselle', 'Miss'), ('Mesdemoiselles', 'Mademoiselle'), ('habitez quelque chose', 'to live something'), ('habitez à', 'Habit A'), (\"j'habite une maison neuve\", 'i live in a new house'), (\"j'habite à Paris\", 'i live in Paris'), (\"l'address\", 'address'), ('un domicile', 'a home'), ('sans domicile fixe', 'no fixed home'), ('les coordonnées', 'the coordinates'), ('donne-moi les coordonnées de Paul', \"give me Paul's coordinates!\"), ('une rue', 'a street'), ('26 rue du Labrador', '26 Rue du Labrador'), ('une route', 'a route'), ('une avenue', 'an avenue'), ('un boulevard', 'a boulevard'), ('une place', 'a place'), ('le numéro', 'the number'), (\"c'est tour numéro 6 de la rue Rambutto\", \"it's turn number 6 of the Rue Rambutto\"), ('la situation de famille', 'family situation'), ('le mari', 'the husband'), ('la femme', 'the woman'), ('se marier', 'to get married'), ('mariée', 'Married'), ('Marie', 'Marie'), ('le mariage', 'Marriage'), (\"l'état civil\", 'the civil state'), (\"il faut aller faire signer ce formulaire à l'état civil\", 'this form has to be signed by the civil state'), ('célibataire', 'Celebrity'), ('une mère célibataire', 'a single mother'), ('1. Une célibataire', '1. A single woman'), ('se fiancer avec', 'to be engaged with'), ('Fiancé', 'Fiancee'), ('Fiancé', 'Fiancee'), ('Infiancé', 'a fiancé'), ('une fiancée', 'a fiancé'), (\"épouser quelqu'un\", 'marry someone'), ('les poux', 'the farts'), (\"l'épouse\", ''), ('un ménage', 'a house'), ('une scène de ménage', 'a cleaning scene'), ('le conjoint', 'the共 One'), ('la conjointe', 'the joint'), ('Conjugale', 'conjugate'), ('Conjugal', 'conjugate'), ('le lit conjugale', 'the al Nova bed'), ('le Pax', 'Pax'), ('pactes civils de solidarité', 'civil Pact of Solidarity'), ('Puck C', 'Boxes'), ('Paxi', 'Paxi'), (\"se séparer de quelqu'un\", 'to separate from someone'), ('michel et Alice se sont séparés', 'michel and Alice broke up'), ('Séparer', 'Separate'), ('séparé', 'Separate'), ('la séparation', 'the separation'), (\"divorcer de quelqu'un\", 'divorce someone'), (\"divorcer avec quelqu'un\", 'divorce with someone'), (\"divorcer d'avec quelqu'un\", 'divorce someone'), ('il a divorcé de sa troisième femme', 'he divorced his third wife'), ('Divorcer', 'Divorce'), ('Divorcer', 'Divorce'), ('un divorcé', 'a divorcee'), ('un divorcé', 'a divorce'), ('le divorce', 'divorce'), ('Zest', 'This'), ('veuv', '아니야'), ('un veuf', 'a cow'), ('une veuve', 'a widow'), ('au revoir', 'ㄷㄷ�세�'), ('Ophéline', 'Ophelene'), ('un orphelin', 'an dependent absent'), ('une orpheline', 'An Orphan'), ('un père de famille', 'a father of a family'), ('une mère de famille', 'a mother of a family'), ('le sexe', 'sex'), ('masculin', 'masculine'), ('Masculine', 'Masculine'), ('féminin', 'Feminine'), ('feminine', 'Feminine'), (\"l'âge\", 'age'), (\"j'ai 18 ans\", \"i'm 18\"), ('Et toi?', 'And you?'), ('Quel âge as-tu?', 'How old are you?'), ('ag', 'ag'), ('ag', 'ag'), ('elle est âgée de 24 ans', 'she is 24 years old'), ('un an', 'one year'), ('Adulte', 'Adult'), ('1. Une adulte', '1. An adult'), ('un, une, enfant', 'a, a, child'), ('major', 'Major'), ('major', 'Major'), ('la majorité', 'the majority'), ('Mineur', 'Miner'), ('Mineur', 'Miner'), ('un film interdit aux mineurs', 'a film forbidden to minors'), ('la date de naissance', 'the date of birth'), ('le lieu de naissance', 'the place of birth')]\n"
     ]
    }
   ],
   "source": [
    "def sanitise(phrase):\n",
    "    # Strip whitespace then full stop\n",
    "    stripped = phrase.strip().strip(\".\")\n",
    "\n",
    "    # Often preceding proper nouns\n",
    "    exceptions = [\"The\", \"La\", \"Le\", \"L\", \"Les\"]\n",
    "\n",
    "    phrase_clean = None\n",
    "    # Un-capitalize phrases\n",
    "    # All uppers are usually errors\n",
    "    if stripped.isupper():\n",
    "        phrase_clean = stripped.lower()\n",
    "    # Title case is sometimes a noun, also check for empty string\n",
    "    # Also check it's not a question\n",
    "    elif (re.split(\" |'\", stripped)[0] in exceptions or not stripped.istitle()) and len(stripped) > 1 and not stripped[-1] == \"?\":\n",
    "        phrase_clean = stripped[0].lower() + stripped[1:]\n",
    "    else:\n",
    "        phrase_clean = stripped\n",
    "\n",
    "    return phrase_clean\n",
    "\n",
    "# Sanitise all outputs\n",
    "pairs = [ tuple(map(sanitise, phrase_pair)) for phrase_pair in zip(phrases_fr, phrases_en)]\n",
    "\n",
    "print(pairs)"
   ]
  },
  {
   "cell_type": "markdown",
   "metadata": {},
   "source": [
    "#### CSV Saving"
   ]
  },
  {
   "cell_type": "code",
   "execution_count": 29,
   "metadata": {},
   "outputs": [],
   "source": [
    "# Foolishly unzipping previously unzipped quantity\n",
    "# Putting it in a data frame\n",
    "data = pd.DataFrame(dict(zip([\"phrases_fr\", \"phrases_en\"], zip(*pairs))))\n",
    "\n",
    "# Saving to CSV\n",
    "CSV_title = re.sub(\",? \", \"_\", filename_title)\n",
    "data.to_csv(CSV_title + \".csv\")"
   ]
  },
  {
   "cell_type": "markdown",
   "metadata": {},
   "source": [
    "## Creating Anki Deck"
   ]
  },
  {
   "cell_type": "code",
   "execution_count": 89,
   "metadata": {},
   "outputs": [],
   "source": [
    "# Now have \"phrases_fr\", \"phrases_en\" and \"chunk_filename_list\", which is enough to create a deck\n",
    "random.seed(1)\n",
    "\n",
    "# Defining model\n",
    "# Model with audio\n",
    "model_audio = genanki.Model(\n",
    "  random.randrange(1 << 30, 1 << 31),\n",
    "  'English/French with Audio',\n",
    "  fields=[\n",
    "    {'name': 'English'},\n",
    "    {'name': 'French'},\n",
    "    {'name': 'Audio'}\n",
    "  ],\n",
    "  templates=[\n",
    "    {\n",
    "      'name': 'Card',\n",
    "      'qfmt': '{{English}}<br><br>{{type:French}}',\n",
    "      'afmt': '{{FrontSide}}<hr id=\"answer\">{{French}}<br>{{Audio}}',\n",
    "    },\n",
    "    ],\n",
    "  css=\"\"\".card {\n",
    "      font-family: \"Times New Roman\", Times, serif;\n",
    "      font-size: 56pt;\n",
    "      text-align: center;\n",
    "      color: black;\n",
    "      }\n",
    "      #typeans{\n",
    "      font-family: \"Times New Roman\", Times, serif !important;\n",
    "      font-size: 40pt !important;\n",
    "      text-align: center;\n",
    "      color: black;\n",
    "      }\n",
    "      input[type=text] {\n",
    "      width: 100%;\n",
    "      text-align: center;\n",
    "      padding: 12px 0px;\n",
    "      margin: 8px 0;\n",
    "      box-sizing: border-box;\n",
    "      background-color: #eee;\n",
    "      }\"\"\"\n",
    ")"
   ]
  },
  {
   "cell_type": "code",
   "execution_count": 100,
   "metadata": {},
   "outputs": [],
   "source": [
    "# Create Deck\n",
    "# Adding \"::\" creates hierarchy within Anki\n",
    "my_deck = genanki.Deck(\n",
    "  random.randrange(1 << 30, 1 << 31), # model_id\n",
    "  pkg_name + \"::\" + chapter + \"::\" + filename_title)\n",
    "\n",
    "# Loop through words\n",
    "for i, ((phrase_fr, phrase_en), chunk_filename) in enumerate(zip(pairs, chunk_filename_list)):\n",
    "    note = genanki.Note(model=model_audio, fields=[phrase_en, phrase_fr, \"[sound:{}]\".format(chunk_filename)])\n",
    "\n",
    "    my_deck.add_note(note)\n",
    "\n",
    "deck_list = []\n",
    "deck_list.append(my_deck)\n",
    "#deck_list.append(parent_deck)"
   ]
  },
  {
   "cell_type": "code",
   "execution_count": 101,
   "metadata": {},
   "outputs": [],
   "source": [
    "# Create package\n",
    "my_package = genanki.Package(deck_list)\n",
    "my_package.media_files = chunk_filename_list\n",
    "\n",
    "my_package.write_to_file(filename_prefix + \".apkg\")"
   ]
  },
  {
   "cell_type": "code",
   "execution_count": null,
   "metadata": {},
   "outputs": [],
   "source": []
  }
 ],
 "metadata": {
  "kernelspec": {
   "display_name": "base",
   "language": "python",
   "name": "python3"
  },
  "language_info": {
   "codemirror_mode": {
    "name": "ipython",
    "version": 3
   },
   "file_extension": ".py",
   "mimetype": "text/x-python",
   "name": "python",
   "nbconvert_exporter": "python",
   "pygments_lexer": "ipython3",
   "version": "3.8.8"
  },
  "orig_nbformat": 4,
  "vscode": {
   "interpreter": {
    "hash": "40d3a090f54c6569ab1632332b64b2c03c39dcf918b08424e98f38b5ae0af88f"
   }
  }
 },
 "nbformat": 4,
 "nbformat_minor": 2
}
